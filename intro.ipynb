{
 "cells": [
  {
   "cell_type": "markdown",
   "metadata": {},
   "source": [
    "# Getting started with `python`\n",
    "\n",
    "\n",
    "[Python](https://python.org) is a general purpose programming\n",
    "language. People use it as a \"pocket calculator\", do data\n",
    "analysis at CERN, or create web sites with it.\n",
    "\n",
    "Excellent [documentation](//docs.python.org), focussed on\n",
    "readability.\n",
    "\n",
    "### Pros\n",
    "* Big, powerful language, you can achieve anything\n",
    "\n",
    "### Cons\n",
    "* Big, powerful language, a lot to figure out how to use\n",
    "\n",
    "![Dancing man](http://i.imgur.com/kjph3lV.gif)"
   ]
  },
  {
   "cell_type": "code",
   "execution_count": null,
   "metadata": {
    "collapsed": false
   },
   "outputs": [],
   "source": [
    "2 + 2"
   ]
  },
  {
   "cell_type": "code",
   "execution_count": null,
   "metadata": {
    "collapsed": false
   },
   "outputs": [],
   "source": [
    "print(\"Hello world\")"
   ]
  },
  {
   "cell_type": "code",
   "execution_count": null,
   "metadata": {
    "collapsed": false
   },
   "outputs": [],
   "source": [
    "print(\"Hello World \" * 10)"
   ]
  },
  {
   "cell_type": "code",
   "execution_count": null,
   "metadata": {
    "collapsed": true
   },
   "outputs": [],
   "source": [
    "a = \"Hello world\""
   ]
  },
  {
   "cell_type": "code",
   "execution_count": null,
   "metadata": {
    "collapsed": false
   },
   "outputs": [],
   "source": [
    "print(a)"
   ]
  },
  {
   "cell_type": "code",
   "execution_count": null,
   "metadata": {
    "collapsed": true
   },
   "outputs": [],
   "source": [
    "pi = 3.141\n",
    "R = 4.5"
   ]
  },
  {
   "cell_type": "code",
   "execution_count": null,
   "metadata": {
    "collapsed": false
   },
   "outputs": [],
   "source": [
    "print(\"The area is:\", 2 * pi * R)"
   ]
  },
  {
   "cell_type": "code",
   "execution_count": null,
   "metadata": {
    "collapsed": false
   },
   "outputs": [],
   "source": [
    "numbers = [2, 3, 4, 5, 6]\n",
    "for number in numbers:\n",
    "    print(\"The area of a circle with radius\", number, \"is\", 2 * pi * number)"
   ]
  },
  {
   "cell_type": "code",
   "execution_count": null,
   "metadata": {
    "collapsed": true
   },
   "outputs": [],
   "source": [
    "def area(R):\n",
    "    return 2 * pi * R"
   ]
  },
  {
   "cell_type": "code",
   "execution_count": null,
   "metadata": {
    "collapsed": false
   },
   "outputs": [],
   "source": [
    "for number in numbers:\n",
    "    print(\"The area of a circle with radius\", number, \"is\", area(number))"
   ]
  },
  {
   "cell_type": "markdown",
   "metadata": {},
   "source": [
    "# Fancy text\n",
    "\n",
    "You can mix text, images, videos, ... with your code. This is ideal for\n",
    "explaining why you are doing what you are doing.\n",
    "\n",
    "How about some _italic_, or **bold** text? Need to link: [google finds everything](http://google.com)\n",
    "\n",
    "Can use this to generate a monthly report that has narrative and plots.\n",
    "Next month, plug in new data and you have next months report done in\n",
    "a few seconds.\n",
    "\n",
    "\n",
    "# Libraries\n",
    "\n",
    "Python contains many useful functions in libraries. For example maths can be found in\n",
    "the math library. To use it:"
   ]
  },
  {
   "cell_type": "code",
   "execution_count": null,
   "metadata": {
    "collapsed": true
   },
   "outputs": [],
   "source": [
    "import math"
   ]
  },
  {
   "cell_type": "code",
   "execution_count": null,
   "metadata": {
    "collapsed": false
   },
   "outputs": [],
   "source": [
    "math.sin(pi)"
   ]
  }
 ],
 "metadata": {
  "kernelspec": {
   "display_name": "Python 3",
   "language": "python",
   "name": "python3"
  },
  "language_info": {
   "codemirror_mode": {
    "name": "ipython",
    "version": 3
   },
   "file_extension": ".py",
   "mimetype": "text/x-python",
   "name": "python",
   "nbconvert_exporter": "python",
   "pygments_lexer": "ipython3",
   "version": "3.5.1"
  }
 },
 "nbformat": 4,
 "nbformat_minor": 0
}
