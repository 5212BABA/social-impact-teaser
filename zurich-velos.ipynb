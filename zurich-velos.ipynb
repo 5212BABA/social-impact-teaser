{
 "cells": [
  {
   "cell_type": "markdown",
   "metadata": {},
   "source": [
    "# Zurich Bike Data\n",
    "\n",
    "How many people cycle on an average weekday in Zurich?"
   ]
  },
  {
   "cell_type": "code",
   "execution_count": null,
   "metadata": {
    "collapsed": true
   },
   "outputs": [],
   "source": [
    "# fetch the data if you don't have it\n",
    "#!wget https://data.stadt-zuerich.ch/storage/f/verkehrszaehlungen_werte_fussgaenger_velo/2016_verkehrszaehlungen_werte_fussgaenger_velo.csv"
   ]
  },
  {
   "cell_type": "code",
   "execution_count": null,
   "metadata": {
    "collapsed": true
   },
   "outputs": [],
   "source": [
    "%matplotlib inline"
   ]
  },
  {
   "cell_type": "code",
   "execution_count": null,
   "metadata": {
    "collapsed": true
   },
   "outputs": [],
   "source": [
    "import numpy as np\n",
    "import pandas as pd"
   ]
  },
  {
   "cell_type": "markdown",
   "metadata": {},
   "source": [
    "Read in the 2016 data. This dataset contains the number of bikes and pedestrians passing\n",
    "all counting stations every 15minutes.\n",
    "\n",
    "Instruct the CSV reader that the `Datum` is a date, and use it as index."
   ]
  },
  {
   "cell_type": "code",
   "execution_count": null,
   "metadata": {
    "collapsed": true
   },
   "outputs": [],
   "source": [
    "df = pd.read_csv(\"2016_verkehrszaehlungen_werte_fussgaenger_velo.csv\",\n",
    "                 parse_dates=['Datum'], index_col='Datum')"
   ]
  },
  {
   "cell_type": "code",
   "execution_count": null,
   "metadata": {
    "collapsed": false
   },
   "outputs": [],
   "source": [
    "# look at the first few entries\n",
    "df.head()"
   ]
  },
  {
   "cell_type": "code",
   "execution_count": null,
   "metadata": {
    "collapsed": false
   },
   "outputs": [],
   "source": [
    "# five random entries\n",
    "df.sample(5)"
   ]
  },
  {
   "cell_type": "code",
   "execution_count": null,
   "metadata": {
    "collapsed": false
   },
   "outputs": [],
   "source": [
    "# for each moment in time there are several entries\n",
    "df.loc[\"2016-02-15 13:45:00\"].shape"
   ]
  },
  {
   "cell_type": "code",
   "execution_count": null,
   "metadata": {
    "collapsed": false
   },
   "outputs": [],
   "source": [
    "df.loc['2016-02-07 19:45:00'].shape"
   ]
  },
  {
   "cell_type": "code",
   "execution_count": null,
   "metadata": {
    "collapsed": false
   },
   "outputs": [],
   "source": [
    "# how many counting stations does Zurich have and how many observations\n",
    "# has each one made?\n",
    "df.Standort.value_counts()"
   ]
  },
  {
   "cell_type": "markdown",
   "metadata": {},
   "source": [
    "# Focus on Y2G13124879\n",
    "\n",
    "Not a gravitatnional wave, just one random counting station in Zurich.\n",
    "\n",
    "This counter is on [Militaerbruecke](https://www.google.com/maps/place/Milit%C3%A4rbr%C3%BCcke,+8004+Z%C3%BCrich,+Switzerland/@47.3750396,8.5320315,17z/data=!4m5!3m4!1s0x47900a05078b48d5:0x63d0455461c631e7!8m2!3d47.3750563!4d8.534021). [Inward direction](https://www.google.com/maps/place/Langstrasse,+Z%C3%BCrich,+Switzerland/@47.3784256,8.5196336,15z/data=!3m1!4b1!4m5!3m4!1s0x47900a181f1fbc37:0x4ded91a7167d938a!8m2!3d47.3787733!4d8.5273363) [Outward direction](https://www.google.com/maps/place/Bahnhofstrasse,+8001+Z%C3%BCrich,+Switzerland/@47.3715832,8.5304294,15z/data=!3m1!4b1!4m5!3m4!1s0x47900a0a4578c013:0x96371feb65728644!8m2!3d47.3722923!4d8.539831)"
   ]
  },
  {
   "cell_type": "code",
   "execution_count": null,
   "metadata": {
    "collapsed": false
   },
   "outputs": [],
   "source": [
    "# Focus on the data from one particular station\n",
    "# Future idea: find out the name and location of each station\n",
    "loc_Y2 = df[df.Standort == 'Y2G13124879']"
   ]
  },
  {
   "cell_type": "code",
   "execution_count": null,
   "metadata": {
    "collapsed": false
   },
   "outputs": [],
   "source": [
    "# resample from 15min period to 1 entry per day\n",
    "loc_Y2_daily = loc_Y2.resample('1D').sum()\n",
    "loc_Y2_daily.head()"
   ]
  },
  {
   "cell_type": "code",
   "execution_count": null,
   "metadata": {
    "collapsed": false
   },
   "outputs": [],
   "source": [
    "# Let's drop all the columns we aren't really interested in\n",
    "# note the really evil column name\n",
    "loc_Y2_daily.drop(labels=['﻿\"ObjectID\"', 'Fuss_in', 'Fuss_out'], axis=1, inplace=True)"
   ]
  },
  {
   "cell_type": "code",
   "execution_count": null,
   "metadata": {
    "collapsed": false
   },
   "outputs": [],
   "source": [
    "# riders per day\n",
    "loc_Y2_daily.plot(title='riders per day')"
   ]
  },
  {
   "cell_type": "code",
   "execution_count": null,
   "metadata": {
    "collapsed": false
   },
   "outputs": [],
   "source": [
    "# access the `day` part of the date of each entry\n",
    "loc_Y2_daily.index.day"
   ]
  },
  {
   "cell_type": "code",
   "execution_count": null,
   "metadata": {
    "collapsed": false
   },
   "outputs": [],
   "source": [
    "# the index also knows the how many'th day of the week a day is\n",
    "loc_Y2_daily.index.weekday"
   ]
  },
  {
   "cell_type": "code",
   "execution_count": null,
   "metadata": {
    "collapsed": true
   },
   "outputs": [],
   "source": [
    "# create a new column to explicitly store the day of the week\n",
    "loc_Y2_daily.loc[:, 'weekday'] = loc_Y2_daily.index.weekday"
   ]
  },
  {
   "cell_type": "code",
   "execution_count": null,
   "metadata": {
    "collapsed": false
   },
   "outputs": [],
   "source": [
    "# Let's start with summing riders for each weekday\n",
    "# groupby() groups rows by the value in the column you name\n",
    "# by itself it doesn't do much\n",
    "grouped = loc_Y2_daily.groupby('weekday')"
   ]
  },
  {
   "cell_type": "code",
   "execution_count": null,
   "metadata": {
    "collapsed": false
   },
   "outputs": [],
   "source": [
    "# you now need to specify how it should combine all the values\n",
    "# for each row with the same value in `weekday`\n",
    "# Can calcualte the mean, standard deviation, sum, etc\n",
    "average = grouped.aggregate(np.mean)\n",
    "average"
   ]
  },
  {
   "cell_type": "code",
   "execution_count": null,
   "metadata": {
    "collapsed": false
   },
   "outputs": [],
   "source": [
    "# can compute several things in one go\n",
    "grouped.aggregate([np.mean, np.std, np.count_nonzero])"
   ]
  },
  {
   "cell_type": "code",
   "execution_count": null,
   "metadata": {
    "collapsed": false
   },
   "outputs": [],
   "source": [
    "# or compute different things for each column\n",
    "grouped.aggregate({'Velo_in': np.mean, 'Velo_out': np.std})"
   ]
  },
  {
   "cell_type": "code",
   "execution_count": null,
   "metadata": {
    "collapsed": false
   },
   "outputs": [],
   "source": [
    "# can you remember which number corresponds to which day? I can't\n",
    "# finally the plot we wanted to make\n",
    "average.index = ['Monday', 'Tuesday', 'Wednesday', 'Thursday', 'Friday', 'Saturday', 'Sunday']\n",
    "average.plot(kind='bar', title=\"average riders per weekday\")"
   ]
  },
  {
   "cell_type": "code",
   "execution_count": null,
   "metadata": {
    "collapsed": true
   },
   "outputs": [],
   "source": []
  },
  {
   "cell_type": "code",
   "execution_count": null,
   "metadata": {
    "collapsed": true
   },
   "outputs": [],
   "source": []
  },
  {
   "cell_type": "code",
   "execution_count": null,
   "metadata": {
    "collapsed": true
   },
   "outputs": [],
   "source": []
  }
 ],
 "metadata": {
  "kernelspec": {
   "display_name": "Python 3",
   "language": "python",
   "name": "python3"
  },
  "language_info": {
   "codemirror_mode": {
    "name": "ipython",
    "version": 3
   },
   "file_extension": ".py",
   "mimetype": "text/x-python",
   "name": "python",
   "nbconvert_exporter": "python",
   "pygments_lexer": "ipython3",
   "version": "3.5.1"
  }
 },
 "nbformat": 4,
 "nbformat_minor": 0
}
