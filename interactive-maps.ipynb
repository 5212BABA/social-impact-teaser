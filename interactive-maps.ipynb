{
 "cells": [
  {
   "cell_type": "code",
   "execution_count": null,
   "metadata": {
    "collapsed": false
   },
   "outputs": [],
   "source": [
    "# convert our shapefile to GeoJSON\n",
    "!ogr2ogr -f GeoJSON gin_adm/GIN_adm2.json gin_adm/GIN_adm2.shp"
   ]
  },
  {
   "cell_type": "code",
   "execution_count": null,
   "metadata": {
    "collapsed": true
   },
   "outputs": [],
   "source": [
    "%matplotlib inline"
   ]
  },
  {
   "cell_type": "code",
   "execution_count": null,
   "metadata": {
    "collapsed": true
   },
   "outputs": [],
   "source": [
    "import json\n",
    "\n",
    "import numpy as np\n",
    "import folium\n",
    "import pandas as pd"
   ]
  },
  {
   "cell_type": "code",
   "execution_count": null,
   "metadata": {
    "collapsed": false
   },
   "outputs": [],
   "source": [
    "geo_json_data = json.load(open('gin_adm/GIN_adm2.json'))"
   ]
  },
  {
   "cell_type": "code",
   "execution_count": null,
   "metadata": {
    "collapsed": false,
    "scrolled": false
   },
   "outputs": [],
   "source": [
    "m = folium.Map([9.886945, -11.251629], zoom_start=7)\n",
    "folium.GeoJson(geo_json_data).add_to(m)\n",
    "m"
   ]
  },
  {
   "cell_type": "code",
   "execution_count": null,
   "metadata": {
    "collapsed": false
   },
   "outputs": [],
   "source": [
    "# Grab all prefecture names from the file containing\n",
    "# their shapes\n",
    "prefectures = folium.GeoJson(geo_json_data)\n",
    "prefecture_names = [pref['properties']['NAME_2'] for pref in prefectures.data['features']]"
   ]
  },
  {
   "cell_type": "code",
   "execution_count": null,
   "metadata": {
    "collapsed": false
   },
   "outputs": [],
   "source": [
    "# Reformat our data to have two columns\n",
    "df = pd.read_csv(\"guinea-ebola.csv\")\n",
    "# select interesting prefectures\n",
    "prefectures = list(df.columns[3:])\n",
    "\n",
    "# take the entry at the last recorded day\n",
    "# as these are cumulative deaths it is also\n",
    "# the maximum. Some areas used to be merged\n",
    "# but then started reporting separately, they\n",
    "# will be NaN, so we drop them\n",
    "data = []\n",
    "for pref in prefecture_names:\n",
    "    if pref in df:\n",
    "        deaths = df[pref].iloc[-1]\n",
    "    else:\n",
    "        deaths = 1.\n",
    "    data.append((pref, deaths))\n",
    "\n",
    "deaths = pd.DataFrame(data,\n",
    "                      columns=[\"Prefectures\", \"Deaths\"])\n",
    "deaths.dropna(inplace=True)\n",
    "deaths_dict = deaths.set_index(\"Prefectures\")['Deaths']"
   ]
  },
  {
   "cell_type": "code",
   "execution_count": null,
   "metadata": {
    "collapsed": false
   },
   "outputs": [],
   "source": [
    "deaths_dict"
   ]
  },
  {
   "cell_type": "code",
   "execution_count": null,
   "metadata": {
    "collapsed": false
   },
   "outputs": [],
   "source": [
    "step = folium.colormap.linear.YlOrRd.scale(1,505)\n",
    "step = step.to_step(n=10, data=set(sorted(deaths_dict.values)), method='quant')\n",
    "\n",
    "m = folium.Map([9.886945, -11.251629], zoom_start=7)\n",
    "m.add_children(step)\n",
    "folium.GeoJson(\n",
    "    geo_json_data,\n",
    "    style_function=lambda feature: {\n",
    "        'fillColor': step(deaths_dict[feature['properties']['NAME_2']]),\n",
    "        'color' : 'black',\n",
    "        'weight' : 1,\n",
    "        'dashArray' : '5, 5',\n",
    "        },\n",
    "    ).add_to(m)\n",
    "\n",
    "m"
   ]
  }
 ],
 "metadata": {
  "kernelspec": {
   "display_name": "Python 3",
   "language": "python",
   "name": "python3"
  },
  "language_info": {
   "codemirror_mode": {
    "name": "ipython",
    "version": 3
   },
   "file_extension": ".py",
   "mimetype": "text/x-python",
   "name": "python",
   "nbconvert_exporter": "python",
   "pygments_lexer": "ipython3",
   "version": "3.5.1"
  }
 },
 "nbformat": 4,
 "nbformat_minor": 0
}
