{
 "cells": [
  {
   "cell_type": "markdown",
   "metadata": {},
   "source": [
    "# Getting started with `pandas`\n",
    "\n",
    "`pandas` is the python library for dealing with data that is organised as a \"spreadsheet\".\n",
    "\n",
    "It is incredibly powerful, and allows for very terse code.\n",
    "\n",
    "### Pros\n",
    "* It’s terse, so you can develop quickly\n",
    "\n",
    "### Cons\n",
    "* It’s terse, so it tends to be more write-only code than not\n",
    "\n",
    "![Power tools ahead](http://49.media.tumblr.com/tumblr_lvck9qVHou1qbvl2io1_400.gif)"
   ]
  },
  {
   "cell_type": "code",
   "execution_count": null,
   "metadata": {
    "collapsed": true
   },
   "outputs": [],
   "source": [
    "%matplotlib inline"
   ]
  },
  {
   "cell_type": "code",
   "execution_count": null,
   "metadata": {
    "collapsed": false
   },
   "outputs": [],
   "source": [
    "# pandas is a library for handling spreadsheets\n",
    "import pandas\n",
    "import matplotlib.pyplot as plt"
   ]
  },
  {
   "cell_type": "code",
   "execution_count": null,
   "metadata": {
    "collapsed": false
   },
   "outputs": [],
   "source": [
    "# create a DataFrame, this is what pandas calls spreadsheets\n",
    "# Let's use our cleaned up ebola data\n",
    "df = pandas.read_csv(\"ebola-edited.csv\")"
   ]
  },
  {
   "cell_type": "code",
   "execution_count": null,
   "metadata": {
    "collapsed": false
   },
   "outputs": [],
   "source": [
    "# checkout five random entries/rows\n",
    "df.sample(5)"
   ]
  },
  {
   "cell_type": "code",
   "execution_count": null,
   "metadata": {
    "collapsed": false
   },
   "outputs": [],
   "source": [
    "# all values in the Value column\n",
    "df.Value"
   ]
  },
  {
   "cell_type": "code",
   "execution_count": null,
   "metadata": {
    "collapsed": false
   },
   "outputs": [],
   "source": [
    "# Can easily compute statistics on a column\n",
    "df.Value.mean() # also: min(), max(), std()"
   ]
  },
  {
   "cell_type": "code",
   "execution_count": null,
   "metadata": {
    "collapsed": false
   },
   "outputs": [],
   "source": [
    "# or examine unique values and their count\n",
    "df.Sources.value_counts()"
   ]
  },
  {
   "cell_type": "markdown",
   "metadata": {},
   "source": [
    "# Let's start analysing\n",
    "\n",
    "First, some basic sanity checks. Over what range of dates do we have data?"
   ]
  },
  {
   "cell_type": "code",
   "execution_count": null,
   "metadata": {
    "collapsed": false
   },
   "outputs": [],
   "source": [
    "df.Date.min(), df.Date.max()"
   ]
  },
  {
   "cell_type": "code",
   "execution_count": null,
   "metadata": {
    "collapsed": true
   },
   "outputs": [],
   "source": [
    "# Actually, it would be useful to have dates as dates not just strings\n",
    "# this turns dates into \"Timestamps\" which means python can be smarter about\n",
    "# what we mean when we perform operations on the dates\n",
    "df = pandas.read_csv(\"ebola-edited.csv\", parse_dates=[4])"
   ]
  },
  {
   "cell_type": "code",
   "execution_count": null,
   "metadata": {
    "collapsed": false
   },
   "outputs": [],
   "source": [
    "df.sample(5)\n",
    "# no spurious hours and minutes anymore as these are dates"
   ]
  },
  {
   "cell_type": "code",
   "execution_count": null,
   "metadata": {
    "collapsed": false
   },
   "outputs": [],
   "source": [
    "# Why do we have data back to 1900??\n",
    "df.Date.min(), df.Date.max()"
   ]
  },
  {
   "cell_type": "code",
   "execution_count": null,
   "metadata": {
    "collapsed": false
   },
   "outputs": [],
   "source": [
    "# what entries were made in 1900???\n",
    "df[(df.Date == df.Date.min())]"
   ]
  },
  {
   "cell_type": "markdown",
   "metadata": {},
   "source": [
    "# Data entry mistake\n",
    "\n",
    "Someone entered data for 1900, this must be a mistake.\n",
    "\n",
    "Googling for \"Sitrep 289 archive\" I found: http://www.who.int/csr/disease/ebola/situation-reports/archive/en/\n",
    "\n",
    "Not situation report for January 29th, only one from January 28th 2015. Let's assume\n",
    "this is the one. What other entries were made for that day referencing\n",
    "the same Sitrep?"
   ]
  },
  {
   "cell_type": "code",
   "execution_count": null,
   "metadata": {
    "collapsed": false
   },
   "outputs": [],
   "source": [
    "# entries on Jan 29 or the weird date and linked to Sitrep 289\n",
    "sub_df = df[((df.Date == \"2015-01-29\") | (df.Date == \"1900-01-04\"))& (df.Link == \"Sitrep 289 29Jan\")]"
   ]
  },
  {
   "cell_type": "code",
   "execution_count": null,
   "metadata": {
    "collapsed": false
   },
   "outputs": [],
   "source": [
    "sub_df[sub_df.Localite == \"National\"]"
   ]
  },
  {
   "cell_type": "code",
   "execution_count": null,
   "metadata": {
    "collapsed": false
   },
   "outputs": [],
   "source": [
    "# Looks like our hunch was right, let's replace all 1900-01-04 dates with Jan 29 2015\n",
    "df2 = df.replace(to_replace={\"Date\": {pandas.Timestamp(\"1900-01-04\"): pandas.Timestamp(\"2015-01-29\")}})\n",
    "# check the minimum date makes sense now\n",
    "df2.Date.min()"
   ]
  },
  {
   "cell_type": "markdown",
   "metadata": {},
   "source": [
    "# Take a closer look at each area of Guinea\n",
    "\n",
    "How did the number of cumulative deaths evolve over time for some of the\n",
    "regions of Guinea?"
   ]
  },
  {
   "cell_type": "code",
   "execution_count": null,
   "metadata": {
    "collapsed": false
   },
   "outputs": [],
   "source": [
    "# select entries counting Deaths from Guinea\n",
    "guinea = df2[((df2.Country == \"Guinea\") & (df2.Category == \"Deaths\"))]\n",
    "\n",
    "# something to investigate later, why are their duplicate entries?\n",
    "guinea_no_dupes = guinea.drop_duplicates(['Date', 'Localite'])\n",
    "print(\"duplicate entries:\", guinea.shape, guinea_no_dupes.shape)"
   ]
  },
  {
   "cell_type": "markdown",
   "metadata": {},
   "source": [
    "## Pivot tables\n",
    "\n",
    "Right now have a table of observations, really want a time series for each area\n",
    "`pivot(`) creates a [Pivot Table](https://en.wikipedia.org/wiki/Pivot_table).\n",
    "The new dataframe will have `Date` as index,\n",
    "one column per unique `Localite` and use the values from the `Value` column as values."
   ]
  },
  {
   "cell_type": "code",
   "execution_count": null,
   "metadata": {
    "collapsed": true
   },
   "outputs": [],
   "source": [
    "guinea_no_dupes.pivot?"
   ]
  },
  {
   "cell_type": "code",
   "execution_count": null,
   "metadata": {
    "collapsed": false
   },
   "outputs": [],
   "source": [
    "# now for real\n",
    "guinea_ts = guinea_no_dupes.pivot(index='Date', columns='Localite', values='Value')"
   ]
  },
  {
   "cell_type": "code",
   "execution_count": null,
   "metadata": {
    "collapsed": false
   },
   "outputs": [],
   "source": [
    "guinea_ts.describe().T"
   ]
  },
  {
   "cell_type": "code",
   "execution_count": null,
   "metadata": {
    "collapsed": false
   },
   "outputs": [],
   "source": [
    "# remove the nation wide numbers\n",
    "guinea_ts_local = guinea_ts.drop('National', axis=1)\n",
    "guinea_ts_local.describe().T"
   ]
  },
  {
   "cell_type": "code",
   "execution_count": null,
   "metadata": {
    "collapsed": false
   },
   "outputs": [],
   "source": [
    "guinea_subset_ts = guinea_ts_local[['Conakry', 'Coyah', 'Nzerekore', 'Macenta']]\n",
    "guinea_subset_ts.plot()"
   ]
  },
  {
   "cell_type": "code",
   "execution_count": null,
   "metadata": {
    "collapsed": false
   },
   "outputs": [],
   "source": [
    "# can also split into several subplots\n",
    "guinea_subset_ts.plot(subplots=True)"
   ]
  },
  {
   "cell_type": "code",
   "execution_count": null,
   "metadata": {
    "collapsed": false
   },
   "outputs": [],
   "source": [
    "# Or look at the rate of nation wide cases per day\n",
    "guinea_national_rate = guinea_ts['National'].diff()\n",
    "\n",
    "fig, (ax1,ax2) = plt.subplots(1, 2, sharex=True, figsize=(12,6))\n",
    "guinea_national_rate.plot(ax=ax1)\n",
    "guinea_ts['National'].plot(ax=ax2)\n",
    "# No plot is complete without labeling!!\n",
    "ax1.set_ylabel(\"Cases per day\")\n",
    "ax2.set_ylabel(\"Cumulative cases\")\n",
    "fig.suptitle(\"Nation wide numbers for Guinea\", size=16)"
   ]
  },
  {
   "cell_type": "code",
   "execution_count": null,
   "metadata": {
    "collapsed": true
   },
   "outputs": [],
   "source": [
    "# store our reduced Guinea dataset in a CSV file\n",
    "# Can easily be imported by Excel or used for\n",
    "# making some map based visualisations\n",
    "guinea_ts.to_csv(\"guinea-ebola.csv\")"
   ]
  }
 ],
 "metadata": {
  "kernelspec": {
   "display_name": "Python 3",
   "language": "python",
   "name": "python3"
  },
  "language_info": {
   "codemirror_mode": {
    "name": "ipython",
    "version": 3
   },
   "file_extension": ".py",
   "mimetype": "text/x-python",
   "name": "python",
   "nbconvert_exporter": "python",
   "pygments_lexer": "ipython3",
   "version": "3.5.1"
  }
 },
 "nbformat": 4,
 "nbformat_minor": 0
}
