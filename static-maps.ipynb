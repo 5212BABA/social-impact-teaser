{
 "cells": [
  {
   "cell_type": "markdown",
   "metadata": {},
   "source": [
    "# Map making 101\n",
    "\n"
   ]
  },
  {
   "cell_type": "code",
   "execution_count": null,
   "metadata": {
    "collapsed": true
   },
   "outputs": [],
   "source": [
    "%matplotlib inline"
   ]
  },
  {
   "cell_type": "code",
   "execution_count": null,
   "metadata": {
    "collapsed": false
   },
   "outputs": [],
   "source": [
    "import numpy as np\n",
    "import matplotlib.pyplot as plt\n",
    "from mpl_toolkits.basemap import Basemap\n",
    "\n",
    "import random\n",
    "from matplotlib.patches import Polygon, PathPatch\n",
    "from matplotlib.collections import PatchCollection"
   ]
  },
  {
   "cell_type": "code",
   "execution_count": null,
   "metadata": {
    "collapsed": false
   },
   "outputs": [],
   "source": [
    "import fiona"
   ]
  },
  {
   "cell_type": "code",
   "execution_count": null,
   "metadata": {
    "collapsed": false
   },
   "outputs": [],
   "source": [
    "shapefilename = 'gin_adm/GIN_adm2'\n",
    "shp = fiona.open(shapefilename + '.shp')"
   ]
  },
  {
   "cell_type": "code",
   "execution_count": null,
   "metadata": {
    "collapsed": false
   },
   "outputs": [],
   "source": [
    "coords = shp.bounds\n",
    "shp.close()\n",
    "\n",
    "w, h = coords[2] - coords[0], coords[3] - coords[1]\n",
    "extra = 0.05\n",
    "\n",
    "fig = plt.figure(figsize=(20,10))\n",
    "ax = fig.add_subplot(111)\n",
    "\n",
    "m = Basemap(\n",
    "    projection='tmerc', ellps='WGS84',\n",
    "    lon_0=np.mean([coords[0], coords[2]]),\n",
    "    lat_0=np.mean([coords[1], coords[3]]),\n",
    "    llcrnrlon=coords[0] - (extra * w),\n",
    "    llcrnrlat=coords[1] - (extra * h), \n",
    "    urcrnrlon=coords[2] + (extra * w),\n",
    "    urcrnrlat=coords[3] + (extra * h),\n",
    "    resolution='h',\n",
    "    ax=ax)\n",
    "\n",
    "m.drawmapboundary(fill_color='#0087BD')\n",
    "#m.drawcountries()\n",
    "#m.fillcontinents(color=\"#C3B091\", zorder=1)\n",
    "\n",
    "\n",
    "# draw lat/lon grid lines every 5 degrees.\n",
    "m.drawmeridians(np.arange(0,360,5), labels=[0,0,0,1], fontsize=10, zorder=10)\n",
    "m.drawparallels(np.arange(-90,90,5), labels=[1,0,0,0], fontsize=10, zorder=11)\n",
    "\n",
    "_out = m.readshapefile(shapefilename, name='guinea', drawbounds=False)\n",
    "_out = m.readshapefile('gin_adm/GIN_adm0', name='guinea_country', drawbounds=True)\n",
    "\n",
    "\n",
    "num_colors = 12\n",
    "cm = plt.get_cmap('Greens')\n",
    "blues = [cm(1.*i/num_colors) for i in range(num_colors)]\n",
    "\n",
    "for info, shape in zip(m.guinea_info, m.guinea):\n",
    "    patches = [Polygon(np.array(shape), True)]\n",
    "    pc = PatchCollection(patches, edgecolor='k', linewidths=0., zorder=3)\n",
    "    pc.set_color(random.choice(blues))\n",
    "    ax.add_collection(pc)\n",
    "\n",
    "# make sure the map is drawn, needed if nothing from basemap is drawn\n",
    "m.set_axes_limits(ax=ax)"
   ]
  },
  {
   "cell_type": "code",
   "execution_count": null,
   "metadata": {
    "collapsed": false
   },
   "outputs": [],
   "source": [
    "plt.get_cmap('Greens')"
   ]
  }
 ],
 "metadata": {
  "kernelspec": {
   "display_name": "Python 3",
   "language": "python",
   "name": "python3"
  },
  "language_info": {
   "codemirror_mode": {
    "name": "ipython",
    "version": 3
   },
   "file_extension": ".py",
   "mimetype": "text/x-python",
   "name": "python",
   "nbconvert_exporter": "python",
   "pygments_lexer": "ipython3",
   "version": "3.5.1"
  }
 },
 "nbformat": 4,
 "nbformat_minor": 0
}
